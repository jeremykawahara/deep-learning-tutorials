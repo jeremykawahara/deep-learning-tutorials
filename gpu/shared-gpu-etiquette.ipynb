{
 "cells": [
  {
   "cell_type": "markdown",
   "metadata": {},
   "source": [
    "This bit of code uses javascript to create a dynamic table of contents."
   ]
  },
  {
   "cell_type": "code",
   "execution_count": 17,
   "metadata": {
    "collapsed": false
   },
   "outputs": [
    {
     "data": {
      "application/javascript": [
       "$.getScript('https://kmahelona.github.io/ipython_notebook_goodies/ipython_notebook_toc.js')"
      ],
      "text/plain": [
       "<IPython.core.display.Javascript object>"
      ]
     },
     "metadata": {},
     "output_type": "display_data"
    }
   ],
   "source": [
    "%%javascript\n",
    "$.getScript('https://kmahelona.github.io/ipython_notebook_goodies/ipython_notebook_toc.js')"
   ]
  },
  {
   "cell_type": "markdown",
   "metadata": {},
   "source": [
    "<h1 id=\"tocheading\">Table of Contents</h1>\n",
    "<div id=\"toc\"></div>"
   ]
  },
  {
   "cell_type": "markdown",
   "metadata": {},
   "source": [
    "<h1>Available GPUs</h1>"
   ]
  },
  {
   "cell_type": "markdown",
   "metadata": {},
   "source": [
    "<p>See our lab infastructure page for list of machines with GPU</p>\n",
    "<p>Basically we have:</p>\n",
    "<ul>\n",
    "<li>5 TitanX - 12 GB (shared by all across 3 terminal servers)</li>\n",
    "<li>A couple other smaller 2GB ones (e.g., there's 1 on ts04)</li>"
   ]
  },
  {
   "cell_type": "markdown",
   "metadata": {},
   "source": [
    "<h1>Shared GPUs usage and etiquette</h1>"
   ]
  },
  {
   "cell_type": "markdown",
   "metadata": {},
   "source": [
    "<h2>Check if others are using the GPU</h2> \n",
    "\n",
    "<p>If they are, then you should try to use a different one</p>\n",
    "<ul>\n",
    "<li>You can corrupt others results if you try and access the GPU at the same time (noticed this with keras)</li>\n",
    "<li>You can use too much memory and cause the job to crash if you load another model at the same time</li>\n",
    "</ul>"
   ]
  },
  {
   "cell_type": "markdown",
   "metadata": {},
   "source": [
    "<h3>Monitor GPU usage with the <code>nvidia-smi</code> command</h3>"
   ]
  },
  {
   "cell_type": "markdown",
   "metadata": {},
   "source": [
    "<p>From the command line, run:</p>\n",
    "<code>nvidia-smi</code>"
   ]
  },
  {
   "cell_type": "markdown",
   "metadata": {},
   "source": [
    "<p><b>fun techincal detail!</b> <em>We can run command line arguments right from the notebook by using the exclamation point <code>!</code> as the first character</em></p>"
   ]
  },
  {
   "cell_type": "code",
   "execution_count": 7,
   "metadata": {
    "collapsed": false
   },
   "outputs": [
    {
     "name": "stdout",
     "output_type": "stream",
     "text": [
      "Wed Apr 26 21:54:09 2017       \r\n",
      "+-----------------------------------------------------------------------------+\r\n",
      "| NVIDIA-SMI 370.28                 Driver Version: 370.28                    |\r\n",
      "|-------------------------------+----------------------+----------------------+\r\n",
      "| GPU  Name        Persistence-M| Bus-Id        Disp.A | Volatile Uncorr. ECC |\r\n",
      "| Fan  Temp  Perf  Pwr:Usage/Cap|         Memory-Usage | GPU-Util  Compute M. |\r\n",
      "|===============================+======================+======================|\r\n",
      "|   0  GeForce GTX 860M    On   | 0000:01:00.0     Off |                  N/A |\r\n",
      "| N/A   47C    P5    N/A /  N/A |    863MiB /  2002MiB |      0%      Default |\r\n",
      "+-------------------------------+----------------------+----------------------+\r\n",
      "                                                                               \r\n",
      "+-----------------------------------------------------------------------------+\r\n",
      "| Processes:                                                       GPU Memory |\r\n",
      "|  GPU       PID  Type  Process name                               Usage      |\r\n",
      "|=============================================================================|\r\n",
      "|    0      1223    G   /usr/lib/xorg/Xorg                             429MiB |\r\n",
      "|    0      2141    G   compiz                                         433MiB |\r\n",
      "+-----------------------------------------------------------------------------+\r\n"
     ]
    }
   ],
   "source": [
    "!nvidia-smi"
   ]
  },
  {
   "cell_type": "markdown",
   "metadata": {},
   "source": [
    "<p>Here we can see that we are using 863 out of 2002 MiB on the GPU</p>\n",
    "<p>This indicates that the GPU is in use by someone (so we should check with whoever is using it!)</p>\n",
    "\n",
    "<p>This also means that you should try to to be holding the GPU memory unless you are activily training! (I'm guitly of this often. If you have a Juypter Notebook open, this holds the GPU memory. So let's try to make sure we free memory when done)</p>"
   ]
  },
  {
   "cell_type": "markdown",
   "metadata": {},
   "source": [
    "<h3>Use the command <code>top</code> to out who is using what</h3>\n",
    "<p>Another way to find out who is using the machine...</p>\n",
    "<p>From the command line run:</p>\n",
    "<code>top</code>"
   ]
  },
  {
   "cell_type": "code",
   "execution_count": 12,
   "metadata": {
    "collapsed": false
   },
   "outputs": [
    {
     "name": "stdout",
     "output_type": "stream",
     "text": [
      "\u001b[?1h\u001b=\u001b[H\u001b[2J\u001b[mtop - 22:00:25 up  3:11,  3 users,  load average: 0.27, 0.25, 0.32\u001b[m\u001b[m\u001b[m\u001b[m\u001b[K\n",
      "Tasks:\u001b[m\u001b[m\u001b[1m 250 \u001b[m\u001b[mtotal,\u001b[m\u001b[m\u001b[1m   1 \u001b[m\u001b[mrunning,\u001b[m\u001b[m\u001b[1m 249 \u001b[m\u001b[msleeping,\u001b[m\u001b[m\u001b[1m   0 \u001b[m\u001b[mstopped,\u001b[m\u001b[m\u001b[1m   0 \u001b[m\u001b[mzombie\u001b[m\u001b[m\u001b[m\u001b[m\u001b[K\n",
      "%Cpu(s):\u001b[m\u001b[m\u001b[1m  6.6 \u001b[m\u001b[mus,\u001b[m\u001b[m\u001b[1m  0.6 \u001b[m\u001b[msy,\u001b[m\u001b[m\u001b[1m  0.4 \u001b[m\u001b[mni,\u001b[m\u001b[m\u001b[1m 92.3 \u001b[m\u001b[mid,\u001b[m\u001b[m\u001b[1m  0.1 \u001b[m\u001b[mwa,\u001b[m\u001b[m\u001b[1m  0.0 \u001b[m\u001b[mhi,\u001b[m\u001b[m\u001b[1m  0.0 \u001b[m\u001b[msi,\u001b[m\u001b[m\u001b[1m  0.0 \u001b[m\u001b[mst\u001b[m\u001b[m\u001b[m\u001b[m\u001b[K\n",
      "KiB Mem: \u001b[m\u001b[m\u001b[1m 16347008 \u001b[m\u001b[mtotal,\u001b[m\u001b[m\u001b[1m  6478372 \u001b[m\u001b[mused,\u001b[m\u001b[m\u001b[1m  9868636 \u001b[m\u001b[mfree,\u001b[m\u001b[m\u001b[1m   480272 \u001b[m\u001b[mbuffers\u001b[m\u001b[m\u001b[m\u001b[m\u001b[K\n",
      "KiB Swap:\u001b[m\u001b[m\u001b[1m 16692220 \u001b[m\u001b[mtotal,\u001b[m\u001b[m\u001b[1m        0 \u001b[m\u001b[mused,\u001b[m\u001b[m\u001b[1m 16692220 \u001b[m\u001b[mfree.\u001b[m\u001b[m\u001b[1m  3327264 \u001b[m\u001b[mcached Mem\u001b[m\u001b[m\u001b[m\u001b[m\u001b[K\n",
      "\u001b[K\n",
      "\u001b[7m  PID USER      PR  NI    VIRT    RES    SHR S  %CPU %MEM     TIME+ COMMAND     \u001b[m\u001b[m\u001b[K\n",
      "\u001b[m30259 jer       20   0 9476712 1.049g 185400 S  71.7  6.7   5:08.38 firefox     \u001b[m\u001b[m\u001b[K\n",
      "\u001b[m 1223 root      20   0  435432 175696 124132 S   6.5  1.1  21:13.53 Xorg        \u001b[m\u001b[m\u001b[K\n",
      "\u001b[m    1 root      20   0   33924   4364   2640 S   0.0  0.0   0:01.26 init        \u001b[m\u001b[m\u001b[K\n",
      "\u001b[m    2 root      20   0       0      0      0 S   0.0  0.0   0:00.00 kthreadd    \u001b[m\u001b[m\u001b[K\n",
      "\u001b[m    3 root      20   0       0      0      0 S   0.0  0.0   0:00.18 ksoftirqd/0 \u001b[m\u001b[m\u001b[K\n",
      "\u001b[m    5 root       0 -20       0      0      0 S   0.0  0.0   0:00.00 kworker/0:+ \u001b[m\u001b[m\u001b[K\n",
      "\u001b[m    7 root      20   0       0      0      0 S   0.0  0.0   0:02.57 rcu_sched   \u001b[m\u001b[m\u001b[K\n",
      "\u001b[m    8 root      20   0       0      0      0 S   0.0  0.0   0:00.00 rcu_bh      \u001b[m\u001b[m\u001b[K\n",
      "\u001b[m    9 root      rt   0       0      0      0 S   0.0  0.0   0:00.02 migration/0 \u001b[m\u001b[m\u001b[K\n",
      "\u001b[m   10 root      rt   0       0      0      0 S   0.0  0.0   0:00.03 watchdog/0  \u001b[m\u001b[m\u001b[K\n",
      "\u001b[m   11 root      rt   0       0      0      0 S   0.0  0.0   0:00.02 watchdog/1  \u001b[m\u001b[m\u001b[K\n",
      "\u001b[m   12 root      rt   0       0      0      0 S   0.0  0.0   0:00.04 migration/1 \u001b[m\u001b[m\u001b[K\n",
      "\u001b[m   13 root      20   0       0      0      0 S   0.0  0.0   0:00.02 ksoftirqd/1 \u001b[m\u001b[m\u001b[K\n",
      "\u001b[m   15 root       0 -20       0      0      0 S   0.0  0.0   0:00.00 kworker/1:+ \u001b[m\u001b[m\u001b[K\n",
      "\u001b[m   16 root      rt   0       0      0      0 S   0.0  0.0   0:00.02 watchdog/2  \u001b[m\u001b[m\u001b[K\n",
      "\u001b[m   17 root      rt   0       0      0      0 S   0.0  0.0   0:00.02 migration/2 \u001b[m\u001b[m\u001b[K\n",
      "\u001b[m   18 root      20   0       0      0      0 S   0.0  0.0   0:00.17 ksoftirqd/2 \u001b[m\u001b[m\u001b[K\u001b[?1l\u001b>\u001b[25;1H\n",
      "\u001b[K\n"
     ]
    }
   ],
   "source": [
    "# Note you'll have to stop this right away (use the stop \"interrupt kernel\" button at the top)\n",
    "# Otherwise this will run a whole bunch.\n",
    "!top"
   ]
  },
  {
   "cell_type": "markdown",
   "metadata": {},
   "source": [
    "<p>So you can see who (<b>jer</b>) is running what (web stuff, python, etc)!</p>\n",
    "<p>You can figure out who to contact this way!</p>"
   ]
  },
  {
   "cell_type": "markdown",
   "metadata": {},
   "source": [
    "<h2>Leave large GPUs free if you have small jobs</h2>\n",
    "<p>Try to use a 2GB GPU if you're just doing some quick prototyping, or if your model is small. This allows others with bigger models to use the larger GPUs</p>"
   ]
  },
  {
   "cell_type": "markdown",
   "metadata": {},
   "source": [
    "<h2>Eventually we will need some GPU schedule</h2>\n",
    "<p>If more people are using this, it would be good to somehow let others know when, and how long</p>"
   ]
  }
 ],
 "metadata": {
  "kernelspec": {
   "display_name": "Python [Root]",
   "language": "python",
   "name": "Python [Root]"
  },
  "language_info": {
   "codemirror_mode": {
    "name": "ipython",
    "version": 2
   },
   "file_extension": ".py",
   "mimetype": "text/x-python",
   "name": "python",
   "nbconvert_exporter": "python",
   "pygments_lexer": "ipython2",
   "version": "2.7.12"
  }
 },
 "nbformat": 4,
 "nbformat_minor": 0
}
