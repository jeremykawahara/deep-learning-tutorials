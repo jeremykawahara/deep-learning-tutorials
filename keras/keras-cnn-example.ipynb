{
 "cells": [
  {
   "cell_type": "code",
   "execution_count": 2,
   "metadata": {
    "collapsed": false,
    "deletable": true,
    "editable": true
   },
   "outputs": [
    {
     "data": {
      "application/javascript": [
       "$.getScript('https://kmahelona.github.io/ipython_notebook_goodies/ipython_notebook_toc.js')"
      ],
      "text/plain": [
       "<IPython.core.display.Javascript object>"
      ]
     },
     "metadata": {},
     "output_type": "display_data"
    }
   ],
   "source": [
    "%%javascript\n",
    "$.getScript('https://kmahelona.github.io/ipython_notebook_goodies/ipython_notebook_toc.js')"
   ]
  },
  {
   "cell_type": "markdown",
   "metadata": {
    "deletable": true,
    "editable": true
   },
   "source": [
    "<h1 id=\"tocheading\">Table of Contents</h1>\n",
    "<div id=\"toc\"></div>"
   ]
  },
  {
   "cell_type": "markdown",
   "metadata": {
    "deletable": true,
    "editable": true
   },
   "source": [
    "<h1>Use <code>module load</code> to load preinstalled libraries</h1>"
   ]
  },
  {
   "cell_type": "markdown",
   "metadata": {
    "deletable": true,
    "editable": true
   },
   "source": [
    "<p>Helpdesk has been a great help by setting up most of the deep learning libraries we could want.</p>\n",
    "<p>On a Ubuntu machine, from the command line, type:</p>\n",
    "<code>module avail</code>\n",
    "\n",
    "<p>To see all that they installed. If you want to load <b>TensorFlow</b> with <b>Keras</b>, from the command line type,</p>\n",
    "<code>module load TOOLS/TENSORFLOW/1.0-CPU-PY2713</code>\n",
    "<p>If you have only want the CPU version.</p>\n",
    "\n",
    "<p>If you want a GPU version, type</p>\n",
    "<code>module load TOOLS/TENSORFLOW/1.0-GPU-PY2713</code>\n",
    "\n",
    "<p>You can load the Python 3.5 versions if you prefer, but for this tutorial, we'll use Python 2.7 with the GPU version.</p>"
   ]
  },
  {
   "cell_type": "markdown",
   "metadata": {
    "collapsed": true,
    "deletable": true,
    "editable": true
   },
   "source": [
    "<h1>A complete example of training a small CNN</h1>"
   ]
  },
  {
   "cell_type": "markdown",
   "metadata": {
    "deletable": true,
    "editable": true
   },
   "source": [
    "<b>A simple complete example showing how to create a CNN for Keras using the CIFAR10 dataset.</b>\n",
    "\n",
    "<p>We'll go through the following steps that are common to almost all problems:</p>\n",
    "<ol>\n",
    "<li>Spliting data into train, valid, and test</li>\n",
    "<li>preprocessing images</li>\n",
    "<li>setting up a typical CNN architecture</li>\n",
    "<li>training the CNN</li>\n",
    "<li>testing the CNN and reporting metrics</li> \n",
    "</ol>"
   ]
  },
  {
   "cell_type": "markdown",
   "metadata": {
    "deletable": true,
    "editable": true
   },
   "source": [
    "<p><b>CNN architecture</b></p>\n",
    "<p>The CNN has 5 layers and shows how to use,</p>\n",
    "<ul>\n",
    "<li>convolutional layers</li>\n",
    "<li>fully-connected layers</li>\n",
    "<li>max-pooling</li>\n",
    "<li>batch normalization</li>\n",
    "<li>dropout</li>\n",
    "<li>weight regularization</li>\n",
    "<li>SGD</li>\n",
    "<li>a function to specify parts of repeated architecture</li>\n",
    "</ul>\n",
    "\n",
    "<p>This CNN is very small (only ~116K parameters), and achieves ~77% accuracy after 25 epochs (okay not great accuracy, but hey, this is just an example).</p>\n",
    "\n",
    "<p>This takes < 15 mins to train for 25 epochs, using a 2GB NVIDIA GPU.</p>"
   ]
  },
  {
   "cell_type": "code",
   "execution_count": 2,
   "metadata": {
    "collapsed": true,
    "deletable": true,
    "editable": true
   },
   "outputs": [],
   "source": [
    "from __future__ import print_function, division"
   ]
  },
  {
   "cell_type": "markdown",
   "metadata": {
    "deletable": true,
    "editable": true
   },
   "source": [
    "<b>Technical note</b>\n",
    "<p>I use Python 2.7 instead of the newer 3.X version... This is because, occasionally, there are times when only Python 2.7 is supported.</p>\n",
    "\n",
    "<p>So this `from __future__` thing forces some parts of the code to behave like Python 3.X</p>"
   ]
  },
  {
   "cell_type": "code",
   "execution_count": 3,
   "metadata": {
    "collapsed": false,
    "deletable": true,
    "editable": true
   },
   "outputs": [],
   "source": [
    "# Puts figure right into this notebook.\n",
    "%matplotlib inline  \n",
    "import matplotlib.pyplot as plt # So we can get matlab like plots.\n",
    "import numpy as np # So we can treat things as a multi-dimensional array \n",
    "# Like how in MATLAB everything is a matrix. Numpy lets everything be an array.\n",
    "\n",
    "# Numpy and matplotlib libraries can do a lot of the MATLAB functionality!"
   ]
  },
  {
   "cell_type": "code",
   "execution_count": 4,
   "metadata": {
    "collapsed": false,
    "deletable": true,
    "editable": true
   },
   "outputs": [
    {
     "name": "stderr",
     "output_type": "stream",
     "text": [
      "Using TensorFlow backend.\n"
     ]
    }
   ],
   "source": [
    "# A bunch of things to import from keras.\n",
    "import keras\n",
    "import keras.backend as K\n",
    "from keras.models import Model\n",
    "from keras.layers import Conv2D, MaxPooling2D, Input, Flatten, Dropout, Dense\n",
    "from keras.layers.advanced_activations import LeakyReLU\n",
    "from keras.layers.normalization import BatchNormalization\n",
    "from keras.layers.pooling import AveragePooling2D\n",
    "from keras import optimizers\n",
    "from keras import initializers\n",
    "from keras import regularizers"
   ]
  },
  {
   "cell_type": "markdown",
   "metadata": {
    "deletable": true,
    "editable": true
   },
   "source": [
    "<h3>Keras versions</h3>\n",
    "<p>This code was written for the Keras 2.0 version. This is important! They changed how some of the functions are called in Keras 2.0 vs earlier versions. So if you are getting strange erorrs, check your version of Keras!</p>"
   ]
  },
  {
   "cell_type": "code",
   "execution_count": 5,
   "metadata": {
    "collapsed": false,
    "deletable": true,
    "editable": true
   },
   "outputs": [
    {
     "data": {
      "text/plain": [
       "'2.0.0'"
      ]
     },
     "execution_count": 5,
     "metadata": {},
     "output_type": "execute_result"
    }
   ],
   "source": [
    "keras.__version__"
   ]
  },
  {
   "cell_type": "markdown",
   "metadata": {
    "deletable": true,
    "editable": true
   },
   "source": [
    "<h2>Load and check out the data</h2>"
   ]
  },
  {
   "cell_type": "code",
   "execution_count": 6,
   "metadata": {
    "collapsed": true,
    "deletable": true,
    "editable": true
   },
   "outputs": [],
   "source": [
    "from keras.datasets import cifar10 # Get an existing dataset.\n",
    "# Download and load the data.\n",
    "(X_train, y_train), (X_test, y_test) = cifar10.load_data()\n",
    "\n",
    "# 10 classes for cifar10.\n",
    "nb_classes = 10"
   ]
  },
  {
   "cell_type": "code",
   "execution_count": 7,
   "metadata": {
    "collapsed": false,
    "deletable": true,
    "editable": true
   },
   "outputs": [
    {
     "name": "stdout",
     "output_type": "stream",
     "text": [
      "(50000, 32, 32, 3)\n",
      "(10000, 32, 32, 3)\n",
      "(50000, 1)\n",
      "(10000, 1)\n"
     ]
    }
   ],
   "source": [
    "# Check our shapes.\n",
    "print(X_train.shape) # 50K images of size 32 x 32 x 3 (tiny color images) <-- train\n",
    "print(X_test.shape)  # 10K images to test.\n",
    "\n",
    "print(y_train.shape) # 50K corresponding labels.\n",
    "print(y_test.shape)  # 10K corresponding labels."
   ]
  },
  {
   "cell_type": "code",
   "execution_count": 8,
   "metadata": {
    "collapsed": false,
    "deletable": true,
    "editable": true
   },
   "outputs": [
    {
     "data": {
      "image/png": "[encoded data removed]",
      "text/plain": [
       "<matplotlib.figure.Figure at 0x7eff426f3bd0>"
      ]
     },
     "metadata": {},
     "output_type": "display_data"
    }
   ],
   "source": [
    "# Let's look at some figures...\n",
    "plt.figure(figsize=(18,4))\n",
    "plt.subplot(1,3,1); plt.imshow(X_train[0]); plt.colorbar(); # Pixel values range between 0-255.\n",
    "plt.subplot(1,3,2); plt.imshow(X_train[1]); plt.colorbar();\n",
    "plt.subplot(1,3,3); plt.imshow(X_train[2]); plt.colorbar();"
   ]
  },
  {
   "cell_type": "code",
   "execution_count": 9,
   "metadata": {
    "collapsed": false,
    "deletable": true,
    "editable": true
   },
   "outputs": [
    {
     "name": "stdout",
     "output_type": "stream",
     "text": [
      "[6]\n",
      "[9]\n",
      "[9]\n"
     ]
    }
   ],
   "source": [
    "print(y_train[0]) # Frog category?\n",
    "print(y_train[1]) # Frog category?\n",
    "print(y_train[2]) # Truck category?"
   ]
  },
  {
   "cell_type": "markdown",
   "metadata": {
    "deletable": true,
    "editable": true
   },
   "source": [
    "<h2>Preprocess the data</h2>"
   ]
  },
  {
   "cell_type": "markdown",
   "metadata": {
    "deletable": true,
    "editable": true
   },
   "source": [
    "<p>We'll do some very simple preprocessing before we train our net</p>"
   ]
  },
  {
   "cell_type": "markdown",
   "metadata": {
    "deletable": true,
    "editable": true
   },
   "source": [
    "<h3>Normalize to 1, and zero-mean images</h3>"
   ]
  },
  {
   "cell_type": "code",
   "execution_count": 10,
   "metadata": {
    "collapsed": true,
    "deletable": true,
    "editable": true
   },
   "outputs": [],
   "source": [
    "# Convert to float datatype.\n",
    "X_train = X_train.astype(np.float32)\n",
    "\n",
    "# Normalize so the max value is 1.\n",
    "X_train /= 255"
   ]
  },
  {
   "cell_type": "code",
   "execution_count": 11,
   "metadata": {
    "collapsed": false,
    "deletable": true,
    "editable": true
   },
   "outputs": [
    {
     "data": {
      "text/plain": [
       "<matplotlib.colorbar.Colorbar at 0x7eff4260a6d0>"
      ]
     },
     "execution_count": 11,
     "metadata": {},
     "output_type": "execute_result"
    },
    {
     "data": {
      "image/png": "[encoded data removed]",
      "text/plain": [
       "<matplotlib.figure.Figure at 0x7eff426f3810>"
      ]
     },
     "metadata": {},
     "output_type": "display_data"
    }
   ],
   "source": [
    "idx = 20\n",
    "plt.imshow(X_train[idx,:,:]); plt.colorbar()"
   ]
  },
  {
   "cell_type": "markdown",
   "metadata": {
    "deletable": true,
    "editable": true
   },
   "source": [
    "<h4>Note we are computing the mean pixel only over the training data!</h4>"
   ]
  },
  {
   "cell_type": "code",
   "execution_count": 12,
   "metadata": {
    "collapsed": false,
    "deletable": true,
    "editable": true
   },
   "outputs": [
    {
     "name": "stdout",
     "output_type": "stream",
     "text": [
      "[ 0.49139959  0.48215833  0.44653207]\n"
     ]
    }
   ],
   "source": [
    "# Subtract by the mean pixel, so image data is centered around 0.\n",
    "mean_px = X_train.mean(axis=0).mean(axis=0).mean(axis=0)\n",
    "print(mean_px)\n",
    "X_train -= mean_px"
   ]
  },
  {
   "cell_type": "code",
   "execution_count": 13,
   "metadata": {
    "collapsed": false,
    "deletable": true,
    "editable": true
   },
   "outputs": [
    {
     "data": {
      "text/plain": [
       "<matplotlib.colorbar.Colorbar at 0x7eff424ed310>"
      ]
     },
     "execution_count": 13,
     "metadata": {},
     "output_type": "execute_result"
    },
    {
     "data": {
      "image/png": "[encoded data removed]",
      "text/plain": [
       "<matplotlib.figure.Figure at 0x7eff3701a910>"
      ]
     },
     "metadata": {},
     "output_type": "display_data"
    }
   ],
   "source": [
    "# Looks odd now since it's centered around 0.\n",
    "idx = 20\n",
    "plt.imshow(X_train[idx,:,:]); plt.colorbar()"
   ]
  },
  {
   "cell_type": "code",
   "execution_count": 14,
   "metadata": {
    "collapsed": true,
    "deletable": true,
    "editable": true
   },
   "outputs": [],
   "source": [
    "# Change to 1-hot encoding.\n",
    "Y_train = keras.utils.np_utils.to_categorical(y_train, nb_classes)\n",
    "Y_test = keras.utils.np_utils.to_categorical(y_test, nb_classes)"
   ]
  },
  {
   "cell_type": "markdown",
   "metadata": {
    "deletable": true,
    "editable": true
   },
   "source": [
    "<p>`Y_train` (captial Y) has a 1 at the 6th element, and 0's everywhere else. This corresponds to the 6 in y_train.</p>\n",
    "<p>Note that python is 0-indexed. This means we count starting from 0, not 1 (MATLAB counts from 1)</p>\n",
    "<p>So the below example is the 6th position in Python, but the 7th position in MATLAB (important if you're moving data between both)</p>"
   ]
  },
  {
   "cell_type": "code",
   "execution_count": 15,
   "metadata": {
    "collapsed": false,
    "deletable": true,
    "editable": true
   },
   "outputs": [
    {
     "name": "stdout",
     "output_type": "stream",
     "text": [
      "[6]\n",
      "[ 0.  0.  0.  0.  0.  0.  1.  0.  0.  0.]\n"
     ]
    }
   ],
   "source": [
    "print(y_train[0])\n",
    "print(Y_train[0])"
   ]
  },
  {
   "cell_type": "markdown",
   "metadata": {
    "deletable": true,
    "editable": true
   },
   "source": [
    "<h1>Setup the model</h1>"
   ]
  },
  {
   "cell_type": "markdown",
   "metadata": {
    "deletable": true,
    "editable": true
   },
   "source": [
    "<h2>How to initialize the weights is important!</h2>\n",
    "\n",
    "<p>There are many ways to do this... Most sample from some random initialization around 0.</p>\n",
    "<p>But from what distribution (usually Gaussian or uniform)?</p>\n",
    "<p>And with what standard deviation?</p>\n",
    "<p>A common way, especially when using ReLUs, is to use the intialization proposed by He et al.</p>\n",
    "\n",
    "<p>\n",
    "He, K., Zhang, X., Ren, S., & Sun, J. (2016). \n",
    "Delving deep into rectifiers: Surpassing human-level performance on imagenet classification. \n",
    "In ICCV (pp. 1026–1034). \n",
    "http://doi.org/10.1109/ICCV.2015.123\n",
    "</p>"
   ]
  },
  {
   "cell_type": "code",
   "execution_count": 16,
   "metadata": {
    "collapsed": true,
    "deletable": true,
    "editable": true
   },
   "outputs": [],
   "source": [
    "# Initialize the weights using He et al.'s approach.\n",
    "kernel_init = initializers.he_uniform()"
   ]
  },
  {
   "cell_type": "code",
   "execution_count": 17,
   "metadata": {
    "collapsed": false,
    "deletable": true,
    "editable": true
   },
   "outputs": [],
   "source": [
    "# `kernel_init` is a function that we can pass around.\n",
    "out = kernel_init(shape=(5,5))"
   ]
  },
  {
   "cell_type": "code",
   "execution_count": 18,
   "metadata": {
    "collapsed": false,
    "deletable": true,
    "editable": true
   },
   "outputs": [
    {
     "name": "stdout",
     "output_type": "stream",
     "text": [
      "Tensor(\"random_uniform:0\", shape=(5, 5), dtype=float32)\n"
     ]
    }
   ],
   "source": [
    "# If we try and just see the values of `out`, we get this odd message. \n",
    "# That's because it returns a Tensor. \n",
    "print(out)"
   ]
  },
  {
   "cell_type": "code",
   "execution_count": 19,
   "metadata": {
    "collapsed": false,
    "deletable": true,
    "editable": true
   },
   "outputs": [
    {
     "name": "stdout",
     "output_type": "stream",
     "text": [
      "[[ 0.77371919 -0.39911532 -0.42955834 -0.79232579 -0.66041124]\n",
      " [-0.3162601   0.79411197 -0.11525524  0.91366434  0.91579008]\n",
      " [ 0.11419308 -0.23065233 -0.86410779  0.76637423 -0.07251906]\n",
      " [ 0.03926659  0.03180087 -1.06965029 -1.09209275  0.168643  ]\n",
      " [ 0.04060161 -0.8459577   0.02459896  1.06020045 -0.78513044]]\n"
     ]
    }
   ],
   "source": [
    "# We actually have to evaluate the tensor to view the values.\n",
    "print(K.eval(out))"
   ]
  },
  {
   "cell_type": "markdown",
   "metadata": {
    "deletable": true,
    "editable": true
   },
   "source": [
    "<h2>Weight regularization</h2>"
   ]
  },
  {
   "cell_type": "markdown",
   "metadata": {
    "deletable": true,
    "editable": true
   },
   "source": [
    "<p>In order to prevent our learned weights from becoming too large, we will penalize large weights (encourage them to be small)</p>"
   ]
  },
  {
   "cell_type": "code",
   "execution_count": 20,
   "metadata": {
    "collapsed": true,
    "deletable": true,
    "editable": true
   },
   "outputs": [],
   "source": [
    "# Function to regularize the \n",
    "reg = regularizers.l2(l=0.0005)"
   ]
  },
  {
   "cell_type": "code",
   "execution_count": 21,
   "metadata": {
    "collapsed": false,
    "deletable": true,
    "editable": true
   },
   "outputs": [
    {
     "name": "stdout",
     "output_type": "stream",
     "text": [
      "0.0005\n"
     ]
    }
   ],
   "source": [
    "# So what does this mean? reg() is a function.\n",
    "# We return the l2 norm of the input weighed by `l`.\n",
    "# So 0.0005*1^2 = 0.0005\n",
    "out = reg(1.)\n",
    "print(K.eval(out))"
   ]
  },
  {
   "cell_type": "code",
   "execution_count": 22,
   "metadata": {
    "collapsed": false,
    "deletable": true,
    "editable": true
   },
   "outputs": [
    {
     "data": {
      "text/plain": [
       "0.0045000000000000005"
      ]
     },
     "execution_count": 22,
     "metadata": {},
     "output_type": "execute_result"
    }
   ],
   "source": [
    "0.0005*(3**2)"
   ]
  },
  {
   "cell_type": "code",
   "execution_count": 23,
   "metadata": {
    "collapsed": false,
    "deletable": true,
    "editable": true
   },
   "outputs": [
    {
     "name": "stdout",
     "output_type": "stream",
     "text": [
      "0.0045\n"
     ]
    }
   ],
   "source": [
    "out = reg(3.)\n",
    "print(K.eval(out))"
   ]
  },
  {
   "cell_type": "markdown",
   "metadata": {
    "deletable": true,
    "editable": true
   },
   "source": [
    "<h2>Clearing the graphs from the GPU memory</h2>\n",
    "\n",
    "<p>This clears the session's graph. That is all the stuff that's been stored in TensorFlow. \n",
    "Run this to clear all the stuff on the GPU.</p>\n",
    "\n",
    "<p>This is very useful if you're running some cross-validation models, or testing different models.\n",
    "You'll quickly get out of memory errors. Run this, and re-create your graphs, to avoid having to restart your kernel. </p>\n",
    "\n",
    "<p>So if you run the below example, and then wanted to re-run it, you should run this `K.clear_session()` to clear the GPU memory, and start again</p>"
   ]
  },
  {
   "cell_type": "code",
   "execution_count": 24,
   "metadata": {
    "collapsed": true,
    "deletable": true,
    "editable": true
   },
   "outputs": [],
   "source": [
    "# Clear the tensorflow graphs on the GPU memory.\n",
    "K.clear_session()"
   ]
  },
  {
   "cell_type": "markdown",
   "metadata": {
    "deletable": true,
    "editable": true
   },
   "source": [
    "<h2>Network architecture</h2>\n",
    "<h3>Using a function to specify repeated layers</h3>\n",
    "<p>Here we use a function to do a convolution, batch normalization, and apply a rectified linear unit.</p>\n",
    "<p>It can be handy to use these functions if your network architecture repeats itself.</p>"
   ]
  },
  {
   "cell_type": "code",
   "execution_count": 25,
   "metadata": {
    "collapsed": true,
    "deletable": true,
    "editable": true
   },
   "outputs": [],
   "source": [
    "def conv_bn_relu(x, # The previous layer.\n",
    "                 filters, # How many filters to use.\n",
    "                 kernel_size=(3,3) # Spatial dimensions of the filter.\n",
    "                ):\n",
    "    \n",
    "    # This is a 2D convolutional layer.\n",
    "    x = Conv2D(filters, # How many filters (number of output feature maps)\n",
    "               kernel_size=kernel_size, # Spatial dimensions of the kernel (sliding window)\n",
    "               padding='same', # How to deal with the border values (or 'valid')\n",
    "               kernel_initializer=kernel_init, # How to initialize the weights (defined earlier)\n",
    "               kernel_regularizer=reg # How to regularize the weights (defined earlier)\n",
    "              )(x) # Input to this layer.\n",
    "    \n",
    "    # Normalizes the layers. \n",
    "    # http://proceedings.mlr.press/v37/ioffe15.html\n",
    "    x = BatchNormalization()(x)\n",
    "    \n",
    "    # Non-linear activation function.\n",
    "    # Leaky Rectified Linear Unit.\n",
    "    x = LeakyReLU(0.33)(x)\n",
    "    \n",
    "    # Return the layer \n",
    "    return x"
   ]
  },
  {
   "cell_type": "code",
   "execution_count": 26,
   "metadata": {
    "collapsed": true,
    "deletable": true,
    "editable": true
   },
   "outputs": [],
   "source": [
    "# In case you want to read the documentation, or see what parameters there are, you can do this.\n",
    "#?Conv2D"
   ]
  },
  {
   "cell_type": "code",
   "execution_count": 27,
   "metadata": {
    "collapsed": true,
    "deletable": true,
    "editable": true
   },
   "outputs": [],
   "source": [
    "# We specifiy the input. Our images are 32 x 32 spatial pixels by 3 colour channels.\n",
    "inputs = Input(shape=(32, 32, 3))"
   ]
  },
  {
   "cell_type": "code",
   "execution_count": 28,
   "metadata": {
    "collapsed": true,
    "deletable": true,
    "editable": true
   },
   "outputs": [],
   "source": [
    "# Apply the convolutional, batch norm, and relu function to the input. \n",
    "# Create 64 feature maps/filters.\n",
    "# Use filters of spatial size 3x3.\n",
    "x = conv_bn_relu(inputs, 64, kernel_size=(3,3))\n",
    "\n",
    "# Max-pool the layers (take the maximium response) within a 2x2 window.\n",
    "# Move the window a stride over by 2x2 pixels.\n",
    "x = MaxPooling2D((2, 2), strides=(2, 2), padding='same')(x)"
   ]
  },
  {
   "cell_type": "code",
   "execution_count": 29,
   "metadata": {
    "collapsed": true,
    "deletable": true,
    "editable": true
   },
   "outputs": [],
   "source": [
    "# Repeat this 3 more times.\n",
    "# These are all convolutions, followed by max-pooling layers.\n",
    "x = conv_bn_relu(x, 64, kernel_size=(3,3))\n",
    "x = MaxPooling2D((2, 2), strides=(2, 2), padding='same')(x)\n",
    "\n",
    "x = conv_bn_relu(x, 64, kernel_size=(3,3))\n",
    "x = MaxPooling2D((2, 2), strides=(2, 2), padding='same')(x)\n",
    "\n",
    "x = conv_bn_relu(x, 64, kernel_size=(3,3))\n",
    "x = MaxPooling2D((2, 2), strides=(2, 2), padding='same')(x)"
   ]
  },
  {
   "cell_type": "code",
   "execution_count": 30,
   "metadata": {
    "collapsed": true,
    "deletable": true,
    "editable": true
   },
   "outputs": [],
   "source": [
    "# This vectorizes the input (no spatial dimensions, a single long feature vector)\n",
    "x = Flatten()(x)\n",
    "# Add dropout with a rate of 0.5 (set half the layer responses to 0)\n",
    "x = Dropout(0.5)(x)"
   ]
  },
  {
   "cell_type": "code",
   "execution_count": 31,
   "metadata": {
    "collapsed": false,
    "deletable": true,
    "editable": true
   },
   "outputs": [],
   "source": [
    "# Create a fully connected layer with 256 feature maps/filters.\n",
    "#x = Dense(256, kernel_initializer=kernel_init)(x)\n",
    "#x = BatchNormalization()(x)\n",
    "# Add a non-linear activation function.\n",
    "#x = LeakyReLU(0.33)(x)\n",
    "# Add dropout with a rate of 0.5 (set half the layer responses to 0)\n",
    "#x = Dropout(0.5)(x)"
   ]
  },
  {
   "cell_type": "code",
   "execution_count": 32,
   "metadata": {
    "collapsed": false,
    "deletable": true,
    "editable": true
   },
   "outputs": [],
   "source": [
    "# The output layer. This creates 10 nodes, one for each class.\n",
    "# We add a softmax activation function to this layer since\n",
    "# we want to scale the outputs between 0 and 1 (which a softmax does).\n",
    "preds = Dense(nb_classes, kernel_initializer=kernel_init, activation='softmax')(x)"
   ]
  },
  {
   "cell_type": "code",
   "execution_count": 33,
   "metadata": {
    "collapsed": false,
    "deletable": true,
    "editable": true
   },
   "outputs": [
    {
     "name": "stdout",
     "output_type": "stream",
     "text": [
      "10\n"
     ]
    }
   ],
   "source": [
    "print(nb_classes) # 10 classes = 10 nodes."
   ]
  },
  {
   "cell_type": "code",
   "execution_count": 34,
   "metadata": {
    "collapsed": true,
    "deletable": true,
    "editable": true
   },
   "outputs": [],
   "source": [
    "# Now we finally create the model here.\n",
    "# We specify the inputs, and the outputs. \n",
    "# Note we can handle multiple inputs and outputs if needed.\n",
    "model = Model(inputs=inputs, outputs=[preds])"
   ]
  },
  {
   "cell_type": "code",
   "execution_count": 35,
   "metadata": {
    "collapsed": false,
    "deletable": true,
    "editable": true
   },
   "outputs": [
    {
     "name": "stdout",
     "output_type": "stream",
     "text": [
      "_________________________________________________________________\n",
      "Layer (type)                 Output Shape              Param #   \n",
      "=================================================================\n",
      "input_1 (InputLayer)         (None, 32, 32, 3)         0         \n",
      "_________________________________________________________________\n",
      "conv2d_1 (Conv2D)            (None, 32, 32, 64)        1792      \n",
      "_________________________________________________________________\n",
      "batch_normalization_1 (Batch (None, 32, 32, 64)        256       \n",
      "_________________________________________________________________\n",
      "leaky_re_lu_1 (LeakyReLU)    (None, 32, 32, 64)        0         \n",
      "_________________________________________________________________\n",
      "max_pooling2d_1 (MaxPooling2 (None, 16, 16, 64)        0         \n",
      "_________________________________________________________________\n",
      "conv2d_2 (Conv2D)            (None, 16, 16, 64)        36928     \n",
      "_________________________________________________________________\n",
      "batch_normalization_2 (Batch (None, 16, 16, 64)        256       \n",
      "_________________________________________________________________\n",
      "leaky_re_lu_2 (LeakyReLU)    (None, 16, 16, 64)        0         \n",
      "_________________________________________________________________\n",
      "max_pooling2d_2 (MaxPooling2 (None, 8, 8, 64)          0         \n",
      "_________________________________________________________________\n",
      "conv2d_3 (Conv2D)            (None, 8, 8, 64)          36928     \n",
      "_________________________________________________________________\n",
      "batch_normalization_3 (Batch (None, 8, 8, 64)          256       \n",
      "_________________________________________________________________\n",
      "leaky_re_lu_3 (LeakyReLU)    (None, 8, 8, 64)          0         \n",
      "_________________________________________________________________\n",
      "max_pooling2d_3 (MaxPooling2 (None, 4, 4, 64)          0         \n",
      "_________________________________________________________________\n",
      "conv2d_4 (Conv2D)            (None, 4, 4, 64)          36928     \n",
      "_________________________________________________________________\n",
      "batch_normalization_4 (Batch (None, 4, 4, 64)          256       \n",
      "_________________________________________________________________\n",
      "leaky_re_lu_4 (LeakyReLU)    (None, 4, 4, 64)          0         \n",
      "_________________________________________________________________\n",
      "max_pooling2d_4 (MaxPooling2 (None, 2, 2, 64)          0         \n",
      "_________________________________________________________________\n",
      "flatten_1 (Flatten)          (None, 256)               0         \n",
      "_________________________________________________________________\n",
      "dropout_1 (Dropout)          (None, 256)               0         \n",
      "_________________________________________________________________\n",
      "dense_1 (Dense)              (None, 10)                2570      \n",
      "=================================================================\n",
      "Total params: 116,170.0\n",
      "Trainable params: 115,658.0\n",
      "Non-trainable params: 512.0\n",
      "_________________________________________________________________\n"
     ]
    }
   ],
   "source": [
    "# Now let's look at the model. Does this make sense?\n",
    "model.summary()"
   ]
  },
  {
   "cell_type": "code",
   "execution_count": 36,
   "metadata": {
    "collapsed": true,
    "deletable": true,
    "editable": true
   },
   "outputs": [],
   "source": [
    "sgd = optimizers.SGD(lr=0.01, # Learning rate: probably the most important hyper-parameter to tune!\n",
    "                              # Try 0.01, if loss does not go down, or if it goes to NaN, \n",
    "                              # try 0.001, then 0.0001, then 0.00001, \n",
    "                              # This can really make a big difference!\n",
    "                     decay=1e-6, # A common training strateg is to lower the learning rate over epochs.\n",
    "                                 # This is how much to lower the learning rate.\n",
    "                     momentum=0.9, # Gather velocity in the gradient update.\n",
    "                                   # (helps converge, get out of flat areas/local mins)\n",
    "                     nesterov=True) # Use the gradients from the previous mini-batches \n",
    "                                    # (helps converge, get out of flat areas/local mins)"
   ]
  },
  {
   "cell_type": "code",
   "execution_count": 37,
   "metadata": {
    "collapsed": false,
    "deletable": true,
    "editable": true
   },
   "outputs": [],
   "source": [
    "model.compile(optimizer=sgd,\n",
    "              loss='categorical_crossentropy', # The function to optimize. This will determine everything!\n",
    "              metrics=['accuracy']) # What metrics to report during training."
   ]
  },
  {
   "cell_type": "markdown",
   "metadata": {
    "deletable": true,
    "editable": true
   },
   "source": [
    "<h1>Train the model</h1>\n",
    "\n",
    "<h3>Initial goal: lower the training loss</h3>\n",
    "<p>To start, you should be most interested in if your training loss is going down over epochs. You want to see a clear trend where the training loss decreases. It should decrease quite quickly in the first few epochs, then slower over time.</p>\n",
    "\n",
    "<p>This should be your main focus at the start. If the training loss is not decreasing, then you probably have a problem with your network somewhere (even if your data is composed of random noise, a large enough network should be able to lower the loss over the dataset just by memorizing the training data).</p>\n",
    "\n",
    "<p>If the loss is not decreasing, you should look at (in suggested order):</p>\n",
    "<ul>\n",
    "<li>lower the learning rate (by a factor of ten, a few times e.g., 0.01, 0.001, 0.0001, 0.00001)</li>\n",
    "<li>remove regularization (no dropout, no l2-weight regularization)</li>\n",
    "<li>make sure the output layer and loss function are setup correctly and makes sense for your problem</li>\n",
    "<li>check how the data is preprocessed and make sure it's not garbled</li>\n",
    "<li>check your weight initializations</li>\n",
    "<li>make the layers wider (i.e., more nodes in a hidden layer, not deeper)</li>\n",
    "</ul>\n",
    "\n",
    "<p>Note: adding batch normalization often seems to make the training easier. So it's often good to have these layers.</p>"
   ]
  },
  {
   "cell_type": "code",
   "execution_count": 38,
   "metadata": {
    "collapsed": false,
    "deletable": true,
    "editable": true
   },
   "outputs": [
    {
     "name": "stdout",
     "output_type": "stream",
     "text": [
      "Train on 40000 samples, validate on 10000 samples\n",
      "Epoch 1/25\n",
      "30s - loss: 1.7426 - acc: 0.4718 - val_loss: 1.3721 - val_acc: 0.6002\n",
      "Epoch 2/25\n",
      "29s - loss: 1.3251 - acc: 0.6108 - val_loss: 1.2006 - val_acc: 0.6521\n",
      "Epoch 3/25\n",
      "29s - loss: 1.1784 - acc: 0.6578 - val_loss: 1.1047 - val_acc: 0.6819\n",
      "Epoch 4/25\n",
      "29s - loss: 1.0934 - acc: 0.6874 - val_loss: 1.0995 - val_acc: 0.6838\n",
      "Epoch 5/25\n",
      "29s - loss: 1.0338 - acc: 0.7093 - val_loss: 1.0690 - val_acc: 0.6882\n",
      "Epoch 6/25\n",
      "29s - loss: 0.9857 - acc: 0.7232 - val_loss: 1.1089 - val_acc: 0.6887\n",
      "Epoch 7/25\n",
      "29s - loss: 0.9497 - acc: 0.7378 - val_loss: 0.9422 - val_acc: 0.7479\n",
      "Epoch 8/25\n",
      "29s - loss: 0.9364 - acc: 0.7409 - val_loss: 0.9797 - val_acc: 0.7267\n",
      "Epoch 9/25\n",
      "30s - loss: 0.9127 - acc: 0.7536 - val_loss: 1.0108 - val_acc: 0.7195\n",
      "Epoch 10/25\n",
      "29s - loss: 0.8972 - acc: 0.7587 - val_loss: 0.9386 - val_acc: 0.7480\n",
      "Epoch 11/25\n",
      "29s - loss: 0.8840 - acc: 0.7659 - val_loss: 0.9108 - val_acc: 0.7612\n",
      "Epoch 12/25\n",
      "29s - loss: 0.8722 - acc: 0.7715 - val_loss: 0.9157 - val_acc: 0.7620\n",
      "Epoch 13/25\n",
      "28s - loss: 0.8695 - acc: 0.7744 - val_loss: 0.9267 - val_acc: 0.7524\n",
      "Epoch 14/25\n",
      "28s - loss: 0.8585 - acc: 0.7792 - val_loss: 0.9039 - val_acc: 0.7676\n",
      "Epoch 15/25\n",
      "28s - loss: 0.8550 - acc: 0.7812 - val_loss: 0.8860 - val_acc: 0.7800\n",
      "Epoch 16/25\n",
      "28s - loss: 0.8424 - acc: 0.7885 - val_loss: 0.9446 - val_acc: 0.7574\n",
      "Epoch 17/25\n",
      "28s - loss: 0.8459 - acc: 0.7888 - val_loss: 0.9161 - val_acc: 0.7698\n",
      "Epoch 18/25\n",
      "28s - loss: 0.8398 - acc: 0.7915 - val_loss: 0.9927 - val_acc: 0.7510\n",
      "Epoch 19/25\n",
      "28s - loss: 0.8351 - acc: 0.7948 - val_loss: 0.9536 - val_acc: 0.7650\n",
      "Epoch 20/25\n",
      "29s - loss: 0.8309 - acc: 0.7978 - val_loss: 0.9460 - val_acc: 0.7683\n",
      "Epoch 21/25\n",
      "28s - loss: 0.8269 - acc: 0.7999 - val_loss: 0.9833 - val_acc: 0.7593\n",
      "Epoch 22/25\n",
      "28s - loss: 0.8258 - acc: 0.8001 - val_loss: 0.9142 - val_acc: 0.7791\n",
      "Epoch 23/25\n",
      "28s - loss: 0.8195 - acc: 0.8047 - val_loss: 1.0235 - val_acc: 0.7497\n",
      "Epoch 24/25\n",
      "28s - loss: 0.8272 - acc: 0.8049 - val_loss: 1.0001 - val_acc: 0.7536\n",
      "Epoch 25/25\n",
      "28s - loss: 0.8201 - acc: 0.8065 - val_loss: 0.9341 - val_acc: 0.7735\n"
     ]
    },
    {
     "data": {
      "text/plain": [
       "<keras.callbacks.History at 0x7efefa930d90>"
      ]
     },
     "execution_count": 38,
     "metadata": {},
     "output_type": "execute_result"
    }
   ],
   "source": [
    "model.fit(X_train, # The data (what we observe, the images)\n",
    "          [Y_train], #  The labels (what we want to predict)\n",
    "          batch_size=32,  # 32 images are going through the net (update based on 32 images). \n",
    "                          # If you get out-of-memory errors, try lowering the batch_size.\n",
    "          epochs=25,  # epoch = full pass over the training data.\n",
    "          validation_split=0.2, # Shuffle \n",
    "          shuffle=True, # Shuffle the training data each \n",
    "          verbose=2)"
   ]
  },
  {
   "cell_type": "markdown",
   "metadata": {
    "deletable": true,
    "editable": true
   },
   "source": [
    "<h3>Secondary goal: Make sure you don't overfit!</h3>\n",
    "<ul>\n",
    "<li>Monitor your validate loss and if training loss is way lower, you've probably overfit</li>\n",
    "<li>If your valid accuracy is way lower than training accuracy, you've probably overfit</li>\n",
    "</ul>\n",
    "\n",
    "<p>If you've overfit</p>\n",
    "<ul>\n",
    "<li>Terminate training earlier (train on less epochs)</li>\n",
    "<li>More dropout</li>\n",
    "<li>Data augmentation</li>\n",
    "</ul>"
   ]
  },
  {
   "cell_type": "markdown",
   "metadata": {},
   "source": [
    "<h1>Save and load your model</h1>"
   ]
  },
  {
   "cell_type": "code",
   "execution_count": 39,
   "metadata": {
    "collapsed": true
   },
   "outputs": [],
   "source": [
    "model.save('cifar10_model.h5')  # Creates a HDF5 file to save the weights and architecture to.\n",
    "del model  # deletes the existing model"
   ]
  },
  {
   "cell_type": "code",
   "execution_count": 40,
   "metadata": {
    "collapsed": false
   },
   "outputs": [
    {
     "ename": "NameError",
     "evalue": "name 'model' is not defined",
     "output_type": "error",
     "traceback": [
      "\u001b[0;31m---------------------------------------------------------------------------\u001b[0m",
      "\u001b[0;31mNameError\u001b[0m                                 Traceback (most recent call last)",
      "\u001b[0;32m<ipython-input-40-06987fa0c0f6>\u001b[0m in \u001b[0;36m<module>\u001b[0;34m()\u001b[0m\n\u001b[0;32m----> 1\u001b[0;31m \u001b[0mmodel\u001b[0m \u001b[0;31m# See? It's gone.\u001b[0m\u001b[0;34m\u001b[0m\u001b[0m\n\u001b[0m",
      "\u001b[0;31mNameError\u001b[0m: name 'model' is not defined"
     ]
    }
   ],
   "source": [
    "model # See? It's gone."
   ]
  },
  {
   "cell_type": "code",
   "execution_count": 41,
   "metadata": {
    "collapsed": true,
    "deletable": true,
    "editable": true
   },
   "outputs": [],
   "source": [
    "from keras.models import load_model\n",
    "# returns a compiled model\n",
    "# identical to the previous one\n",
    "model = load_model('final_cifar10_model.h5')"
   ]
  },
  {
   "cell_type": "markdown",
   "metadata": {},
   "source": [
    "<h1>Test your model!</h1>\n",
    "<p>Take the model you found performed best over your <b>valid set</b> and you're now ready to use it over your <b>test set</b></p>"
   ]
  },
  {
   "cell_type": "markdown",
   "metadata": {},
   "source": [
    "<h3>Preprocess test set</h3>"
   ]
  },
  {
   "cell_type": "code",
   "execution_count": 42,
   "metadata": {
    "collapsed": true,
    "deletable": true,
    "editable": true
   },
   "outputs": [],
   "source": [
    "# Make sure you apply the extact same pre-preprocessing procedure to your \n",
    "# test set, as you did to the train set.\n",
    "\n",
    "X_test = X_test.astype(np.float32) # Make a float.\n",
    "X_test /= 255 # Max value = 1.\n",
    "X_test -= mean_px # Computed over the train set."
   ]
  },
  {
   "cell_type": "code",
   "execution_count": 43,
   "metadata": {
    "collapsed": false
   },
   "outputs": [
    {
     "data": {
      "text/plain": [
       "<matplotlib.colorbar.Colorbar at 0x7efea27aee90>"
      ]
     },
     "execution_count": 43,
     "metadata": {},
     "output_type": "execute_result"
    },
    {
     "data": {
      "image/png": "[encoded data removed]",
      "text/plain": [
       "<matplotlib.figure.Figure at 0x7eff42404f50>"
      ]
     },
     "metadata": {},
     "output_type": "display_data"
    }
   ],
   "source": [
    "plt.imshow(X_test[0]); plt.colorbar()"
   ]
  },
  {
   "cell_type": "code",
   "execution_count": 44,
   "metadata": {
    "collapsed": true
   },
   "outputs": [],
   "source": [
    "# Predict!\n",
    "test_probs = model.predict(X_test)"
   ]
  },
  {
   "cell_type": "code",
   "execution_count": 45,
   "metadata": {
    "collapsed": false
   },
   "outputs": [
    {
     "name": "stdout",
     "output_type": "stream",
     "text": [
      "(10000, 10)\n"
     ]
    }
   ],
   "source": [
    "print(test_probs.shape) # 10K samples, with 10 classes. A probability for each class."
   ]
  },
  {
   "cell_type": "code",
   "execution_count": 50,
   "metadata": {
    "collapsed": false
   },
   "outputs": [
    {
     "data": {
      "text/plain": [
       "array([  8.59790146e-02,   1.68978609e-02,   1.61032134e-03,\n",
       "         4.04329645e-03,   7.90514576e-04,   2.02895899e-04,\n",
       "         1.02927221e-03,   1.21997343e-03,   7.61652470e-01,\n",
       "         1.26574397e-01], dtype=float32)"
      ]
     },
     "execution_count": 50,
     "metadata": {},
     "output_type": "execute_result"
    }
   ],
   "source": [
    "# We get probabilities like this.... (1 of k)\n",
    "test_probs[2]"
   ]
  },
  {
   "cell_type": "code",
   "execution_count": 51,
   "metadata": {
    "collapsed": false
   },
   "outputs": [
    {
     "name": "stdout",
     "output_type": "stream",
     "text": [
      "[8]\n",
      "(10000, 1)\n"
     ]
    }
   ],
   "source": [
    "# But we want to go back to the numbers as in the ground truth!\n",
    "print(y_test[2])\n",
    "print(y_test.shape)"
   ]
  },
  {
   "cell_type": "code",
   "execution_count": 52,
   "metadata": {
    "collapsed": false
   },
   "outputs": [],
   "source": [
    "# Get the index for the largest probability (argmax) over the class axis.\n",
    "test_preds = np.argmax(test_probs,axis=1)"
   ]
  },
  {
   "cell_type": "code",
   "execution_count": 53,
   "metadata": {
    "collapsed": false
   },
   "outputs": [
    {
     "name": "stdout",
     "output_type": "stream",
     "text": [
      "(10000,)\n"
     ]
    }
   ],
   "source": [
    "print(test_preds.shape) # Now we have 10K single class labels."
   ]
  },
  {
   "cell_type": "code",
   "execution_count": 54,
   "metadata": {
    "collapsed": false
   },
   "outputs": [
    {
     "name": "stdout",
     "output_type": "stream",
     "text": [
      "8\n"
     ]
    }
   ],
   "source": [
    "print(test_preds[2]) # See, it's no longer 1-of-k encoded"
   ]
  },
  {
   "cell_type": "code",
   "execution_count": 55,
   "metadata": {
    "collapsed": false
   },
   "outputs": [
    {
     "name": "stdout",
     "output_type": "stream",
     "text": [
      "0.7679\n"
     ]
    }
   ],
   "source": [
    "# We compute the accuracy over the test set! \n",
    "acc = np.mean(test_preds == np.squeeze(y_test))\n",
    "print(acc)"
   ]
  },
  {
   "cell_type": "code",
   "execution_count": 117,
   "metadata": {
    "collapsed": true
   },
   "outputs": [],
   "source": [
    "# And we're done!"
   ]
  }
 ],
 "metadata": {
  "kernelspec": {
   "display_name": "Python [Root]",
   "language": "python",
   "name": "Python [Root]"
  },
  "language_info": {
   "codemirror_mode": {
    "name": "ipython",
    "version": 2
   },
   "file_extension": ".py",
   "mimetype": "text/x-python",
   "name": "python",
   "nbconvert_exporter": "python",
   "pygments_lexer": "ipython2",
   "version": "2.7.12"
  }
 },
 "nbformat": 4,
 "nbformat_minor": 2
}
